{
 "cells": [
  {
   "cell_type": "markdown",
   "metadata": {},
   "source": [
    "Punto 1: Programación Orientada a Objetos\n",
    "\n",
    "Objetivo: Evaluar la comprensión y habilidad del estudiante en la implementación de principios de programación orientada a objetos en Python.\n",
    "\n",
    "Descripción del ejercicio: Crea una clase en Python llamada Vehiculo, que tenga las siguientes características:\n",
    "\n",
    "        Atributos privados:marca, modelo y año\n",
    "\n",
    "        Un método constructor que inicialice estos atributos.\n",
    "\n",
    "        Métodos públicos para obtener y establecer el valor de cada atributo (getters y setters).\n",
    "        \n",
    "        Un método detalles() que imprima la información del vehículo en el formato: \"Marca: [marca], Modelo: [modelo], Año: [año]\"."
   ]
  },
  {
   "cell_type": "code",
   "execution_count": 1,
   "metadata": {},
   "outputs": [
    {
     "name": "stdout",
     "output_type": "stream",
     "text": [
      "Marca inicial: Jeep\n",
      "Marca después de modificar: Chevrolet\n",
      "Modelo después de modificar: Spark\n",
      "La Marca del vehículo es Chevrolet\n",
      "Su modelo es Spark\n",
      "Del año 2024\n"
     ]
    }
   ],
   "source": [
    "class Vehiculo:\n",
    "  \"\"\"\n",
    "  Esta clase representa un vehículo con sus características básicas\n",
    "  \"\"\"\n",
    "  def __init__(self, marca, modelo, año):\n",
    "    \"\"\"\n",
    "    Método constructor que inicializa los atributos privados de la clase\n",
    "        \n",
    "    Args:\n",
    "        marca (str): Marca del vehículo.\n",
    "        modelo (str): Modelo del vehículo.\n",
    "        año (int): Año de fabricación del vehículo.\n",
    "        \n",
    "    \"\"\"\n",
    "    self.marca = marca\n",
    "    self.modelo = modelo\n",
    "    self.año = año\n",
    "\n",
    "  def get_marca(self):\n",
    "    \"\"\"\n",
    "    Metodo Getter para obtener el valor del atributo 'Marca'\n",
    "    \"\"\"\n",
    "    return self.marca\n",
    "\n",
    "  def set_marca(self, marca_nueva):\n",
    "    \"\"\"\n",
    "    Método setter para establecer un nuevo valor para el atributo 'marca'\n",
    "    \"\"\"\n",
    "    self.marca = marca_nueva\n",
    "\n",
    "  def get_modelo(self):\n",
    "    return self.modelo\n",
    "\n",
    "  def set_modelo(self, modelo_nuevo):\n",
    "    self.modelo = modelo_nuevo\n",
    "    \n",
    "  def get_año(self):\n",
    "    return self.año\n",
    "      \n",
    "  def set_año(self, año_nuevo):\n",
    "    self.año = año_nuevo\n",
    "    \n",
    "  def detalles(self):\n",
    "    print(f'La Marca del vehículo es {self.get_marca()}')\n",
    "    print(f'Su modelo es {self.get_modelo()}')\n",
    "    print(f'Del año {self.get_año()}')\n",
    "\n",
    "vehiculo = Vehiculo(\"Jeep\", \"Renegade\", 2024)\n",
    "\n",
    "print(f\"Marca inicial: {vehiculo.get_marca()}\")\n",
    "\n",
    "vehiculo.set_marca(\"Chevrolet\")\n",
    "vehiculo.set_modelo('Spark')\n",
    "print(f\"Marca después de modificar: {vehiculo.get_marca()}\")\n",
    "print(f\"Modelo después de modificar: {vehiculo.get_modelo()}\")\n",
    "\n",
    "vehiculo.detalles()\n"
   ]
  },
  {
   "cell_type": "markdown",
   "metadata": {},
   "source": [
    "Punto 2: Resolución de Problemas Matemáticos\n",
    "\n",
    "Objetivo: Evaluar la habilidad del estudiante para aplicar funciones y estructuras de control en Python para resolver problemas matemáticos.\n",
    "\n",
    "Descripción del ejercicio: Escribe una función en Python llamada suma_primos que reciba un número entero n y devuelva la suma de todos los números primos menores o iguales a n.\n",
    "\n",
    "Tareas:\n",
    "        Define la funcion suma_primos. \n",
    "\n",
    "        Implementa dentro de la función un método para verificar si un número es primo.\n",
    "\n",
    "        Utiliza un bucle para sumar todos los números primos menores o iguales a n.\n",
    "        \n",
    "        Prueba la función con el valor n=30y muestra el resultado."
   ]
  },
  {
   "cell_type": "code",
   "execution_count": 2,
   "metadata": {},
   "outputs": [
    {
     "name": "stdout",
     "output_type": "stream",
     "text": [
      "La suma de todos los números primos menores o iguales a 10 es: 17\n"
     ]
    }
   ],
   "source": [
    "def primo(n):\n",
    "    if n<=1:\n",
    "        return False\n",
    "    for i in range(2,n):\n",
    "        if n%i==0:\n",
    "            return False\n",
    "    return True\n",
    "\n",
    "def suma_primos(n):\n",
    "    suma=0\n",
    "    for i in range(2,n+1):\n",
    "        if primo(i):\n",
    "            suma+=i\n",
    "    return suma\n",
    "\n",
    "n=10\n",
    "print(f\"La suma de todos los números primos menores o iguales a {n} es: {suma_primos(n)}\")"
   ]
  },
  {
   "cell_type": "markdown",
   "metadata": {},
   "source": [
    "Punto 3: Trabajar con un API\n",
    "\n",
    "Objetivo: Evaluar la habilidad del estudiante para interactuar con APIs externas utilizando Python.\n",
    "Descripción del ejercicio: Utiliza la API pública JSONPlaceholder (https://jsonplaceholder.typicode.com/) para realizar operaciones CRUD (Crear, Leer, Actualizar, Eliminar).\n",
    "\n",
    "Tareas:\n",
    "\n",
    "    Utiliza la biblioteca requests para obtener todos los usuarios (GET).\n",
    "\n",
    "    Elige un usuario y actualiza su información (PUT o PATCH).\n",
    "\n",
    "    Crea un nuevo post para el usuario seleccionado (POST).\n",
    "\n",
    "    Elimina el post creado (DELETE).\n",
    "\n",
    "    Documenta cada paso y asegúrate de manejar posibles errores en las solicitudes.\n",
    "    "
   ]
  },
  {
   "cell_type": "code",
   "execution_count": 5,
   "metadata": {},
   "outputs": [],
   "source": [
    "import requests\n",
    "\n",
    "def obtener_user():\n",
    "    \"\"\"\n",
    "    Obtiene los usuarios de la API\n",
    "    \"\"\"\n",
    "    respuesta= requests.get(\"https://jsonplaceholder.typicode.com/users\")\n",
    "    if respuesta.status_code==200:\n",
    "        usuarios= respuesta.json()\n",
    "        for usuario in usuarios:\n",
    "            print(f'ID: {usuario['id']}')\n",
    "            print(f\"Nombre: {usuario['name']}\")\n",
    "            print(f\"Email: {usuario['email']}\")\n",
    "    else:\n",
    "        print(f\"Error al obtener usuarios: {respuesta.status_code}\")\n",
    "        \n",
    "def actualizar_usuario(usuario_id):\n",
    "    \"\"\"\n",
    "    Actualiza la información de un usuario en la API JSONPlaceholder.\n",
    "    \"\"\"\n",
    "    nuevo_nombre = input(\"Ingrese el nuevo nombre: \")\n",
    "    nuevo_email = input(\"Ingrese el nuevo email: \")\n",
    "\n",
    "    datos_actualizados = {\n",
    "        \"name\": nuevo_nombre,\n",
    "        \"email\": nuevo_email\n",
    "    }\n",
    "\n",
    "    response = requests.put(f\"https://jsonplaceholder.typicode.com/users/{usuario_id}\", json=datos_actualizados)\n",
    "    if response.status_code == 200:\n",
    "        print(\"Usuario actualizado con éxito.\")\n",
    "    else:\n",
    "        print(f\"Error al actualizar usuario: {response.status_code}\")\n",
    "        \n",
    "def crear_post(usuario_id):\n",
    "    \"\"\"\n",
    "    Crea un nuevo post para un usuario en la API JSONPlaceholder.\n",
    "    \"\"\"\n",
    "    # Solicitar datos del nuevo post al usuario\n",
    "    titulo = input(\"Ingrese el título del post: \")\n",
    "    cuerpo = input(\"Ingrese el cuerpo del post: \")\n",
    "\n",
    "    # Construir diccionario con datos del post\n",
    "    datos_post = {\n",
    "        \"title\": titulo,\n",
    "        \"body\": cuerpo,\n",
    "        \"userId\": usuario_id}"
   ]
  },
  {
   "cell_type": "code",
   "execution_count": 7,
   "metadata": {},
   "outputs": [
    {
     "name": "stdout",
     "output_type": "stream",
     "text": [
      "ID: 1\n",
      "Nombre: Leanne Graham\n",
      "Email: Sincere@april.biz\n",
      "ID: 2\n",
      "Nombre: Ervin Howell\n",
      "Email: Shanna@melissa.tv\n",
      "ID: 3\n",
      "Nombre: Clementine Bauch\n",
      "Email: Nathan@yesenia.net\n",
      "ID: 4\n",
      "Nombre: Patricia Lebsack\n",
      "Email: Julianne.OConner@kory.org\n",
      "ID: 5\n",
      "Nombre: Chelsey Dietrich\n",
      "Email: Lucio_Hettinger@annie.ca\n",
      "ID: 6\n",
      "Nombre: Mrs. Dennis Schulist\n",
      "Email: Karley_Dach@jasper.info\n",
      "ID: 7\n",
      "Nombre: Kurtis Weissnat\n",
      "Email: Telly.Hoeger@billy.biz\n",
      "ID: 8\n",
      "Nombre: Nicholas Runolfsdottir V\n",
      "Email: Sherwood@rosamond.me\n",
      "ID: 9\n",
      "Nombre: Glenna Reichert\n",
      "Email: Chaim_McDermott@dana.io\n",
      "ID: 10\n",
      "Nombre: Clementina DuBuque\n",
      "Email: Rey.Padberg@karina.biz\n"
     ]
    }
   ],
   "source": [
    "# Llamar a la función para obtener los usuarios\n",
    "obtener_user()\n"
   ]
  },
  {
   "cell_type": "code",
   "execution_count": null,
   "metadata": {},
   "outputs": [],
   "source": []
  }
 ],
 "metadata": {
  "kernelspec": {
   "display_name": "Python 3",
   "language": "python",
   "name": "python3"
  },
  "language_info": {
   "codemirror_mode": {
    "name": "ipython",
    "version": 3
   },
   "file_extension": ".py",
   "mimetype": "text/x-python",
   "name": "python",
   "nbconvert_exporter": "python",
   "pygments_lexer": "ipython3",
   "version": "3.12.2"
  }
 },
 "nbformat": 4,
 "nbformat_minor": 2
}
